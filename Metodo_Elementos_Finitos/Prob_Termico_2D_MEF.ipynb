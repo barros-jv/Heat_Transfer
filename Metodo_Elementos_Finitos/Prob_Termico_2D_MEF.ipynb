{
 "cells": [
  {
   "cell_type": "code",
   "execution_count": 1,
   "id": "96105a06-4858-4633-99a2-6806e71cd708",
   "metadata": {
    "execution": {
     "iopub.execute_input": "2022-08-25T01:10:14.515351Z",
     "iopub.status.busy": "2022-08-25T01:10:14.514353Z",
     "iopub.status.idle": "2022-08-25T01:10:15.271785Z",
     "shell.execute_reply": "2022-08-25T01:10:15.271374Z",
     "shell.execute_reply.started": "2022-08-25T01:10:14.514353Z"
    }
   },
   "outputs": [],
   "source": [
    "import numpy as np\n",
    "import matplotlib.pyplot as plt\n",
    "from matplotlib import tri"
   ]
  },
  {
   "cell_type": "code",
   "execution_count": 2,
   "id": "f866b461-243b-4fb6-9baa-c1d3af5ac2aa",
   "metadata": {
    "execution": {
     "iopub.execute_input": "2022-08-25T01:10:15.271785Z",
     "iopub.status.busy": "2022-08-25T01:10:15.271785Z",
     "iopub.status.idle": "2022-08-25T01:10:15.317525Z",
     "shell.execute_reply": "2022-08-25T01:10:15.317525Z",
     "shell.execute_reply.started": "2022-08-25T01:10:15.271785Z"
    },
    "tags": []
   },
   "outputs": [],
   "source": [
    "# parametros da simulacao\n",
    "nx = 30\n",
    "ny = 30\n",
    "Lx = 1.0\n",
    "Ly = 1.0\n",
    "alpha = 1.0\n",
    "rho = 1.0\n",
    "cv = 1.0\n",
    "Q = 10.0\n",
    "npoints = nx*ny\n",
    "ne = 2*(nx-1)*(ny-1)\n",
    "\n",
    "# geracao de pontos e malha\n",
    "Xv = np.linspace(0,Lx,nx)\n",
    "Yv = np.linspace(0,Ly,ny)\n",
    "\n",
    "X,Y = np.meshgrid(Xv,Yv)\n",
    "\n",
    "X = np.reshape(X,npoints)\n",
    "Y = np.reshape(Y,npoints)\n",
    "\n",
    "triang = tri.Triangulation(X,Y)\n",
    "IEN = triang.triangles"
   ]
  },
  {
   "cell_type": "code",
   "execution_count": 3,
   "id": "46046d55-b50c-4929-a3c3-0383a77b870e",
   "metadata": {
    "execution": {
     "iopub.execute_input": "2022-08-25T01:10:15.318526Z",
     "iopub.status.busy": "2022-08-25T01:10:15.318526Z",
     "iopub.status.idle": "2022-08-25T01:10:15.460516Z",
     "shell.execute_reply": "2022-08-25T01:10:15.460516Z",
     "shell.execute_reply.started": "2022-08-25T01:10:15.318526Z"
    },
    "tags": []
   },
   "outputs": [],
   "source": [
    "# Pontos C.C\n",
    "cc1 = [];cc2 = [];cc3 = [];cc4 = []; cc = []; noncc = []\n",
    "\n",
    "for i in range(0,npoints):\n",
    "    if Y[i] == min(Y):\n",
    "        cc1.append(i)\n",
    "        cc.append(i)\n",
    "    elif Y[i] == max(Y):\n",
    "        cc3.append(i)\n",
    "        cc.append(i)\n",
    "    elif X[i] == min(X) and Y[i]>min(Y) and Y[i]<max(Y):\n",
    "        cc4.append(i)\n",
    "        cc.append(i)\n",
    "    elif X[i] == max(X) and Y[i]>min(Y) and Y[i]<max(Y): \n",
    "        cc2.append(i)\n",
    "        cc.append(i)\n",
    "    else:\n",
    "        noncc.append(i)"
   ]
  },
  {
   "cell_type": "code",
   "execution_count": 4,
   "id": "96cb6a30-31d4-4fa4-8fd7-97d4baa6e796",
   "metadata": {
    "execution": {
     "iopub.execute_input": "2022-08-25T01:10:15.461512Z",
     "iopub.status.busy": "2022-08-25T01:10:15.461512Z",
     "iopub.status.idle": "2022-08-25T01:10:15.823548Z",
     "shell.execute_reply": "2022-08-25T01:10:15.823548Z",
     "shell.execute_reply.started": "2022-08-25T01:10:15.461512Z"
    },
    "tags": []
   },
   "outputs": [
    {
     "data": {
      "image/png": "[encoded data removed]",
      "text/plain": [
       "<Figure size 1440x720 with 2 Axes>"
      ]
     },
     "metadata": {
      "needs_background": "light"
     },
     "output_type": "display_data"
    }
   ],
   "source": [
    "# construcao das matrizes K e M\n",
    "K = np.zeros( (npoints,npoints),dtype='float' )\n",
    "M = np.zeros( (npoints,npoints),dtype='float' )\n",
    "\n",
    "for e in range(0,ne):\n",
    "    # definicao das matrizes do elemento\n",
    "    v1,v2,v3 = IEN[e]\n",
    "    area = 0.5*np.linalg.det(np.array([[1,X[v1],Y[v1]],\n",
    "                                    [1,X[v2],Y[v2]],\n",
    "                                    [1,X[v3],Y[v3]]]))\n",
    "    melem = (area/12.0)*np.array([[2,1,1],\n",
    "                               [1,2,1],\n",
    "                               [1,1,2]])\n",
    "    bi = Y[v2]-Y[v3]\n",
    "    bj = Y[v3]-Y[v1]\n",
    "    bk = Y[v1]-Y[v2]\n",
    "    ci = X[v3]-X[v2]\n",
    "    cj = X[v1]-X[v3]\n",
    "    ck = X[v2]-X[v1]\n",
    "    kxelem = (alpha/(4*area))*np.array([[bi*bi,bi*bj,bi*bk],\n",
    "                                     [bj*bi,bj*bj,bj*bk],\n",
    "                                     [bk*bi,bk*bj,bk*bk]])\n",
    "    kyelem = (alpha/(4*area))*np.array([[ci*ci,ci*cj,ci*ck],\n",
    "                                     [cj*ci,cj*cj,cj*ck],\n",
    "                                     [ck*ci,ck*cj,ck*ck]])\n",
    "    kelem = kxelem + kyelem\n",
    "\n",
    "    for ilocal in range(0,3):\n",
    "        iglobal = IEN[e,ilocal]\n",
    "        for jlocal in range(0,3):\n",
    "            jglobal = IEN[e,jlocal]\n",
    "\n",
    "            K[iglobal,jglobal] += kelem[ilocal,jlocal]\n",
    "            M[iglobal,jglobal] += melem[ilocal,jlocal]\n",
    "\n",
    "qvec = (Q/(rho*cv)) * np.ones( (npoints),dtype='float' )\n",
    "\n",
    "A = K.copy()\n",
    "b = M@qvec\n",
    "\n",
    "# imposicao das condicoes de contorno de Dirichlet\n",
    "#-------------------------------------------------- \n",
    "for i in cc1:\n",
    "    A[i,:] = 0.0\n",
    "    A[i,i] = 1.0\n",
    "    b[i] = X[i]\n",
    "\n",
    "for i in cc3:\n",
    "    A[i,:] = 0.0\n",
    "    A[i,i] = 1.0\n",
    "    b[i] = X[i]*X[i] + 1\n",
    "\n",
    "# imposicao das condicoes de contorno de Neumann (Fluxo de calor= 0)\n",
    "#----------------------------------------------------------- \n",
    "#for i in cc2:\n",
    "#    A[i,:] = 0.0\n",
    "#    A[i,i] = 1.0\n",
    "#    b[i] = Y[i]*Y[i] + 1\n",
    "\n",
    "#for i in cc4:\n",
    "#    A[i,:] = 0.0\n",
    "#    A[i,i] = 1.0\n",
    "#    b[i] = Y[i]\n",
    "\n",
    "# solucao do sistema linear\n",
    "T = np.linalg.solve(A,b)\n",
    "\n",
    "\n",
    "# plot da solucao\n",
    "plt.figure(figsize=(20, 10))\n",
    "ax = plt.axes()\n",
    "ax.set_aspect('equal')\n",
    "xq = X.reshape(ny,nx)\n",
    "yq = Y.reshape(ny,nx)\n",
    "solq = T.reshape(ny,nx)\n",
    "surf = ax.contourf(xq,yq,solq,cmap='jet')\n",
    "plt.colorbar(surf,shrink=0.5, aspect=5)\n",
    "#plt.title(f'nIter = {nIter}')\n",
    "plt.show()"
   ]
  },
  {
   "cell_type": "code",
   "execution_count": null,
   "id": "582a707b-6347-429d-a259-b0cd37193612",
   "metadata": {},
   "outputs": [],
   "source": []
  }
 ],
 "metadata": {
  "kernelspec": {
   "display_name": "Python 3 (ipykernel)",
   "language": "python",
   "name": "python3"
  },
  "language_info": {
   "codemirror_mode": {
    "name": "ipython",
    "version": 3
   },
   "file_extension": ".py",
   "mimetype": "text/x-python",
   "name": "python",
   "nbconvert_exporter": "python",
   "pygments_lexer": "ipython3",
   "version": "3.9.12"
  }
 },
 "nbformat": 4,
 "nbformat_minor": 5
}

{
 "cells": [
  {
   "cell_type": "markdown",
   "id": "d7a3e9a1-b9b0-4bc2-b4df-4cb69b3ba09f",
   "metadata": {},
   "source": [
    "# Método de Solução de EDOs: Runge-Kutta"
   ]
  },
  {
   "cell_type": "code",
   "execution_count": 1,
   "id": "add7efb7-1960-4637-a8da-db1bd2a189c7",
   "metadata": {},
   "outputs": [],
   "source": [
    "import math\n",
    "import matplotlib.pyplot as plt"
   ]
  },
  {
   "cell_type": "markdown",
   "id": "4a69fc1d-b1c5-4807-afd0-b8b9a74fc658",
   "metadata": {
    "tags": []
   },
   "source": [
    "## Método de Euler (Rugen-Kutta 1º Ord.)"
   ]
  },
  {
   "cell_type": "markdown",
   "id": "1c4409d7-6ddd-46c6-9b54-7f9aae4c9484",
   "metadata": {},
   "source": [
    "$$ k_1 = f(t,u^n)$$\n",
    "\n",
    "$$ u^{n+1} = u^n + \\Delta t k_1  $$"
   ]
  },
  {
   "cell_type": "markdown",
   "id": "008dc884-2166-4ad3-8db0-d3a522b6cddf",
   "metadata": {},
   "source": [
    "### Exemplo:"
   ]
  },
  {
   "cell_type": "code",
   "execution_count": 2,
   "id": "c98e7a81-f274-433a-bce3-0bf464e53fe2",
   "metadata": {},
   "outputs": [
    {
     "data": {
      "text/plain": [
       "<matplotlib.legend.Legend at 0x17acb63d940>"
      ]
     },
     "execution_count": 2,
     "metadata": {},
     "output_type": "execute_result"
    },
    {
     "data": {
      "image/png": "[encoded data removed]",
      "text/plain": [
       "<Figure size 432x288 with 1 Axes>"
      ]
     },
     "metadata": {
      "needs_background": "light"
     },
     "output_type": "display_data"
    }
   ],
   "source": [
    "# Função\n",
    "dy = lambda x,y: math.sin(x)**2*y\n",
    "f = lambda x: 2*math.exp(0.5*(x-math.sin(x)*math.cos(x)))\n",
    "\n",
    "# Condições\n",
    "xi = 0; xf = 5; h = 0.5\n",
    "n = int((xf-xi)/h)\n",
    "x = 0; y = 2\n",
    "\n",
    "x_plot=[]; y_RK3=[]; y_analytical=[]\n",
    "\n",
    "for i in range(1, n+1):\n",
    "    x_plot.append(x); y_RK3.append(y); y_analytical.append(f(x))\n",
    "    k1 = dy(x,y)\n",
    "    \n",
    "    y = y + h*k1\n",
    "    \n",
    "    x = x + h\n",
    "\n",
    "x_plot.append(x); y_RK3.append(y); y_analytical.append(f(x))\n",
    "plt.plot(x_plot,y_RK3,'ro',x_plot,y_analytical)\n",
    "plt.xlabel('x'); plt.ylabel('y')\n",
    "plt.legend(['RK2','Analytical'])"
   ]
  },
  {
   "cell_type": "markdown",
   "id": "bcb90f0c-add2-4aa9-b809-48889b813309",
   "metadata": {
    "tags": []
   },
   "source": [
    "## Rugen-Kutta 2º Ord."
   ]
  },
  {
   "cell_type": "markdown",
   "id": "21f14070-702b-4a32-99d4-c78cfacee71d",
   "metadata": {},
   "source": [
    "$$ k_1 = f(t,u^n)$$\n",
    "\n",
    "$$ k_2 = f\\left( t + \\frac{\\Delta t}{2}, u^n + \\frac{\\Delta t}{2}k_1\\right) $$\n",
    "\n",
    "$$ u^{n+1} = u^n + \\frac{\\Delta t}{2}(k_1 + k_2) $$"
   ]
  },
  {
   "cell_type": "markdown",
   "id": "6a5500d5-c1a7-4ba4-8e18-4c0b945bf871",
   "metadata": {},
   "source": [
    "### Exemplo:"
   ]
  },
  {
   "cell_type": "code",
   "execution_count": 3,
   "id": "9903e9e8-8bc1-405f-999b-6310a3d6dce9",
   "metadata": {},
   "outputs": [
    {
     "data": {
      "text/plain": [
       "<matplotlib.legend.Legend at 0x17acc4fc0d0>"
      ]
     },
     "execution_count": 3,
     "metadata": {},
     "output_type": "execute_result"
    },
    {
     "data": {
      "image/png": "[encoded data removed]",
      "text/plain": [
       "<Figure size 432x288 with 1 Axes>"
      ]
     },
     "metadata": {
      "needs_background": "light"
     },
     "output_type": "display_data"
    }
   ],
   "source": [
    "# Função\n",
    "dy = lambda x,y: math.sin(x)**2*y\n",
    "f = lambda x: 2*math.exp(0.5*(x-math.sin(x)*math.cos(x)))\n",
    "\n",
    "# Condições\n",
    "xi = 0; xf = 5; h = 0.5\n",
    "n = int((xf-xi)/h)\n",
    "x = 0; y = 2\n",
    "\n",
    "x_plot=[]; y_RK3=[]; y_analytical=[]\n",
    "\n",
    "for i in range(1, n+1):\n",
    "    x_plot.append(x); y_RK3.append(y); y_analytical.append(f(x))\n",
    "    k1 = dy(x,y)\n",
    "    k2 = dy(x+h/2, y+k1*h/2)\n",
    "    \n",
    "    y = y + h/2*(k1 + k2)\n",
    "    \n",
    "    x = x + h\n",
    "\n",
    "x_plot.append(x); y_RK3.append(y); y_analytical.append(f(x))\n",
    "plt.plot(x_plot,y_RK3,'ro',x_plot,y_analytical)\n",
    "plt.xlabel('x'); plt.ylabel('y')\n",
    "plt.legend(['RK2','Analytical'])"
   ]
  },
  {
   "cell_type": "markdown",
   "id": "63e6bedd-8db8-43fa-aadb-a910168ec80c",
   "metadata": {
    "tags": []
   },
   "source": [
    "## Rugen-Kutta 3º Ord."
   ]
  },
  {
   "cell_type": "markdown",
   "id": "0fe3d84d-26fd-41a8-b51e-38a4f818b905",
   "metadata": {},
   "source": [
    "$$ k_1 = f(t,u^n)$$\n",
    "\n",
    "$$ k_2 = f\\left( t + \\frac{\\Delta t}{2}, u^n + \\frac{\\Delta t}{2}k_1\\right) $$\n",
    "\n",
    "$$ k_3 = f\\left( t + \\frac{\\Delta t}{2}, u^n + \\frac{\\Delta t}{2}k_2\\right) $$\n",
    "\n",
    "$$ u^{n+1} = u^n + \\frac{\\Delta t}{6}(k_1 + 4k_2 + k_3) $$"
   ]
  },
  {
   "cell_type": "markdown",
   "id": "53c4e0fb-f60b-42fb-8627-e71fe32a6096",
   "metadata": {},
   "source": [
    "### Exemplo:"
   ]
  },
  {
   "cell_type": "code",
   "execution_count": 4,
   "id": "a94c2126-cb75-411f-9797-d6c7ba45b444",
   "metadata": {},
   "outputs": [
    {
     "data": {
      "text/plain": [
       "<matplotlib.legend.Legend at 0x17acc560c40>"
      ]
     },
     "execution_count": 4,
     "metadata": {},
     "output_type": "execute_result"
    },
    {
     "data": {
      "image/png": "[encoded data removed]",
      "text/plain": [
       "<Figure size 432x288 with 1 Axes>"
      ]
     },
     "metadata": {
      "needs_background": "light"
     },
     "output_type": "display_data"
    }
   ],
   "source": [
    "# Função\n",
    "dy = lambda x,y: math.sin(x)**2*y\n",
    "f = lambda x: 2*math.exp(0.5*(x-math.sin(x)*math.cos(x)))\n",
    "\n",
    "# Condições\n",
    "xi = 0; xf = 5; h = 0.5\n",
    "n = int((xf-xi)/h)\n",
    "x = 0; y = 2\n",
    "\n",
    "x_plot=[]; y_RK3=[]; y_analytical=[]\n",
    "\n",
    "for i in range(1, n+1):\n",
    "    x_plot.append(x); y_RK3.append(y); y_analytical.append(f(x))\n",
    "    k1 = dy(x,y)\n",
    "    k2 = dy(x+h/2, y+k1*h/2)\n",
    "    k3 = dy(x+h/2, y+k2*h/2)\n",
    "    \n",
    "    y = y + h/6*(k1 + 4*k2 + k3)\n",
    "    \n",
    "    x = x + h\n",
    "\n",
    "x_plot.append(x); y_RK3.append(y); y_analytical.append(f(x))\n",
    "plt.plot(x_plot,y_RK3,'ro',x_plot,y_analytical)\n",
    "plt.xlabel('x'); plt.ylabel('y')\n",
    "plt.legend(['RK3','Analytical'])"
   ]
  },
  {
   "cell_type": "markdown",
   "id": "edd59bd0-bd20-4f5f-aa45-3313a4031507",
   "metadata": {
    "tags": []
   },
   "source": [
    "## Rugen-Kutta 4º Ord."
   ]
  },
  {
   "cell_type": "markdown",
   "id": "6f585d2d-7101-440c-ab9e-8c3da975fdb0",
   "metadata": {},
   "source": [
    "$$ k_1 = f(t,u^n)$$\n",
    "\n",
    "$$ k_2 = f\\left( t + \\frac{\\Delta t}{2}, u^n + \\frac{\\Delta t}{2}k_1\\right) $$\n",
    "\n",
    "$$ k_3 = f\\left( t + \\frac{\\Delta t}{2}, u^n + \\frac{\\Delta t}{2}k_2\\right) $$\n",
    "\n",
    "$$ k_4 = f(t + \\Delta t, u + \\Delta t k_3) $$\n",
    "\n",
    "$$ u^{n+1} = u^n + \\frac{\\Delta t}{6}(k_1 + 2k_2 + 2k_3 + k_4) $$"
   ]
  },
  {
   "cell_type": "markdown",
   "id": "661a16c2-dda2-411f-ba3d-cb723a9ef722",
   "metadata": {},
   "source": [
    "### Exemplo:"
   ]
  },
  {
   "cell_type": "code",
   "execution_count": 5,
   "id": "9279cdc3-81c2-4b19-aab4-5f4194b01fc4",
   "metadata": {},
   "outputs": [
    {
     "data": {
      "text/plain": [
       "<matplotlib.legend.Legend at 0x17acc5d7b80>"
      ]
     },
     "execution_count": 5,
     "metadata": {},
     "output_type": "execute_result"
    },
    {
     "data": {
      "image/png": "[encoded data removed]",
      "text/plain": [
       "<Figure size 432x288 with 1 Axes>"
      ]
     },
     "metadata": {
      "needs_background": "light"
     },
     "output_type": "display_data"
    }
   ],
   "source": [
    "# Função\n",
    "dy = lambda x,y: math.sin(x)**2*y\n",
    "f = lambda x: 2*math.exp(0.5*(x-math.sin(x)*math.cos(x)))\n",
    "\n",
    "# Condições\n",
    "xi = 0; xf = 5; h = 0.5\n",
    "n = int((xf-xi)/h)\n",
    "x = 0; y = 2\n",
    "\n",
    "x_plot=[]; y_RK3=[]; y_analytical=[]\n",
    "\n",
    "for i in range(1, n+1):\n",
    "    x_plot.append(x); y_RK3.append(y); y_analytical.append(f(x))\n",
    "    k1 = dy(x,y)\n",
    "    k2 = dy(x+h/2, y+k1*h/2)\n",
    "    k3 = dy(x+h/2, y+k2*h/2)\n",
    "    k4 = dy(x+h, y+k3*h)\n",
    "    \n",
    "    y = y + h/6*(k1 + 2*k2 + 2*k3 + k4)\n",
    "    \n",
    "    x = x + h\n",
    "\n",
    "x_plot.append(x); y_RK3.append(y); y_analytical.append(f(x))\n",
    "plt.plot(x_plot,y_RK3,'ro',x_plot,y_analytical)\n",
    "plt.xlabel('x'); plt.ylabel('y')\n",
    "plt.legend(['RK4','Analytical'])"
   ]
  }
 ],
 "metadata": {
  "kernelspec": {
   "display_name": "Python 3 (ipykernel)",
   "language": "python",
   "name": "python3"
  },
  "language_info": {
   "codemirror_mode": {
    "name": "ipython",
    "version": 3
   },
   "file_extension": ".py",
   "mimetype": "text/x-python",
   "name": "python",
   "nbconvert_exporter": "python",
   "pygments_lexer": "ipython3",
   "version": "3.9.12"
  }
 },
 "nbformat": 4,
 "nbformat_minor": 5
}
